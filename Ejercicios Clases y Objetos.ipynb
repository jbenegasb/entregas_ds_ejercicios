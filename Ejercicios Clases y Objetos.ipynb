{
 "cells": [
  {
   "cell_type": "markdown",
   "metadata": {},
   "source": [
    "![imagen](./img/ejercicios.png)\n",
    "\n",
    "# Ejercicios Clases y Objetos"
   ]
  },
  {
   "cell_type": "markdown",
   "metadata": {},
   "source": [
    "## Ejercicio 1\n",
    "Somos una empresa que tiene varias tiendas de electrodomesticos. Necesitamos un programa para manejar las tiendas, ver las ventas que han tenido, cuántos empleados hay, etc... Para ello vamos a modelizar la tienda en una clase, que tendrá las siguientes características:\n",
    "* Nombre clase: \"Tienda\"\n",
    "* Atributos comunes:\n",
    "    * Tipo: \"Electrodomésticos\"\n",
    "    * Abierta: True\n",
    "* Atributos propios de cada tienda:\n",
    "    * Nombre - String\n",
    "    * Dirección - String\n",
    "    * Número de empleados - int\n",
    "    * Ventas ultimos 3 meses - Lista de 3 numeros\n",
    "* Método para calcular las ventas de todos los meses, que devuelva un numero con todas las ventas.\n",
    "* Método que calcula la media de ventas de los ultimos meses, por empleado\n",
    "* Método que devuelve en un string el nombre de la tienda, junto con su dirección.\n",
    "* Método que obtiene las ventas del último mes.\n",
    "* Método para dar una proyección de las ventas en caso de haber invertido X dinero en marketing en esa tienda. Siendo X el parámetro de entrada. Si X es menor de 1000, las ventas de los ultimos 3 meses hubiesen sido de (1.2 x ventas), si es mayor o igual de 1000, las ventas hubiesen sido de (1.5 x venta). El método reescribe el atributo de ventas en los últimos 3 meses, y además devuelve las ventas con el aumento.\n",
    "\n",
    "Se pide:\n",
    "1. Implementar la clase \"Tienda\"\n",
    "2. Crear tres tiendas con datos inventados\n",
    "3. Comprueba en al menos una de ellas, todo lo implementado en la clase tienda (sus atributos, media de ventas, ventas/empleado...)\n",
    "3. Calcular las ventas del último mes de todas las tiendas. Para ello usa el bucle `for`\n",
    "4. Imprime por pantalla los nombres de las tiendas cuya dirección lleve el string \"Avenida\"\n",
    "5. Seguro que ya has hecho este apartado... Documenta la clase :)"
   ]
  },
  {
   "cell_type": "code",
   "execution_count": 5,
   "metadata": {},
   "outputs": [],
   "source": [
    "   class Tienda:\n",
    "  \n",
    "  \n",
    "    \n",
    "    tipo = \"Electrodomésticos\"\n",
    "    abierta = True\n",
    "\n",
    "    def __init__(self, nombre, direccion, num_empleados, ventas_ultimos_3_meses):\n",
    "        self.nombre = nombre\n",
    "        self.direccion = direccion\n",
    "        self.num_empleados = num_empleados\n",
    "        self.ventas_ultimos_3_meses = ventas_ultimos_3_meses\n",
    "\n",
    "    def ventas_totales(self):\n",
    "        return sum(self.ventas_ultimos_3_meses)\n",
    "\n",
    "    def media_ventas_por_empleado(self):\n",
    "        if self.num_empleados == 0:\n",
    "            return 0\n",
    "        return self.ventas_totales() / self.num_empleados\n",
    "\n",
    "    def info_tienda(self):\n",
    "        return f\"{self.nombre}, {self.direccion}\"\n",
    "\n",
    "    def ventas_ultimo_mes(self):\n",
    "        return self.ventas_ultimos_3_meses[-1]\n",
    "\n",
    "    def proyeccion_ventas(self, x):\n",
    "        if x < 1000:\n",
    "            factor = 1.2\n",
    "        else:\n",
    "            factor = 1.5\n",
    "        self.ventas_ultimos_3_meses = [v * factor for v in self.ventas_ultimos_3_meses]\n",
    "        return self.ventas_ultimos_3_meses"
   ]
  },
  {
   "cell_type": "code",
   "execution_count": 3,
   "metadata": {},
   "outputs": [],
   "source": [
    "tienda1 = Tienda(\"ElectroCity\", \"Calle Mayor 10\", 5, [10000, 12000, 9000])\n",
    "tienda2 = Tienda(\"HogarTech\", \"Avenida Central 25\", 8, [15000, 14000, 13000])\n",
    "tienda3 = Tienda(\"TechHouse\", \"Calle Luna 5\", 3, [8000, 9000, 10000])"
   ]
  },
  {
   "cell_type": "code",
   "execution_count": 4,
   "metadata": {},
   "outputs": [
    {
     "name": "stdout",
     "output_type": "stream",
     "text": [
      "31000\n",
      "6200.0\n",
      "ElectroCity, Calle Mayor 10\n",
      "9000\n",
      "[12000.0, 14400.0, 10800.0]\n"
     ]
    }
   ],
   "source": [
    "print(tienda1.ventas_totales())                \n",
    "print(tienda1.media_ventas_por_empleado())     \n",
    "print(tienda1.info_tienda())                   \n",
    "print(tienda1.ventas_ultimo_mes())             \n",
    "print(tienda1.proyeccion_ventas(500))         "
   ]
  },
  {
   "cell_type": "code",
   "execution_count": 3,
   "metadata": {},
   "outputs": [
    {
     "name": "stdout",
     "output_type": "stream",
     "text": [
      "15750.0\n",
      "mi tienda 1\n"
     ]
    }
   ],
   "source": []
  },
  {
   "cell_type": "markdown",
   "metadata": {},
   "source": [
    "## Ejercicio 2\n",
    "En este ejercicio vamos a implementar una clase *Perro* en Python. La clase tiene las siguientes características:\n",
    "* Cosas que sabemos seguro que tiene un perro\n",
    "    * Tiene 4 patas\n",
    "    * 2 orejas\n",
    "    * 2 ojos\n",
    "    * Una velocidad de 0. Por defecto, el perro está parado\n",
    "* Cuando se inicialice:\n",
    "    * El perro será de una determinada raza\n",
    "    * Por defecto tendrá pelo \"Marrón\", a no ser que se diga lo contrario.\n",
    "    * Por defecto no tendrá dueño, a no ser que se diga lo contrario.\n",
    "    \n",
    "* Dispondrá también de un método llamado andar, que tiene un argumento de entrada (aumento_velocidad). Este valor se le sumará a la velocidad que ya llevaba el perro.\n",
    "* Necesita otro método (parar), donde pondremos la velocidad a 0.\n",
    "* Otro método llamado \"ladrar\", que tendrá un argumento de entrada, y la salida será el siguiente string: \"GUAU!\" + el argumento de entrada.\n",
    "\n",
    "\n",
    "Se pide:\n",
    "* Implementa la clase *Perro*\n",
    "* Crea un objeto de tipo *Perro*, sin dueño\n",
    "* Comprueba que están bien todos sus atributos\n",
    "* Prueba que ande, y comprueba su velocidad\n",
    "* Páralo\n",
    "* Documenta la clase *Perro*"
   ]
  },
  {
   "cell_type": "code",
   "execution_count": 7,
   "metadata": {},
   "outputs": [],
   "source": [
    "class Perro:\n",
    "    \n",
    "    \n",
    "    patas = 4\n",
    "    orejas = 2\n",
    "    ojos = 2\n",
    "    \n",
    "    def __init__(self, raza, pelo=\"Marrón\", duenio=None):\n",
    "        self.raza = raza\n",
    "        self.pelo = pelo\n",
    "        self.duenio = duenio\n",
    "        self.velocidad = 0\n",
    "    \n",
    "    def andar(self, aumento_velocidad):\n",
    "        self.velocidad += aumento_velocidad\n",
    "    \n",
    "    def parar(self):\n",
    "        self.velocidad = 0\n",
    "    \n",
    "    def ladrar(self, mensaje):\n",
    "        return \"GUAU! \" + str(mensaje)\n",
    "\n",
    "\n",
    "\n",
    "\n",
    "mi_perro = Perro(raza=\"Labrador\")"
   ]
  },
  {
   "cell_type": "code",
   "execution_count": 8,
   "metadata": {},
   "outputs": [
    {
     "name": "stdout",
     "output_type": "stream",
     "text": [
      "Velocidad después de andar: 10\n",
      "Velocidad después de parar: 0\n",
      "GUAU! ¡Ven aquí!\n"
     ]
    }
   ],
   "source": [
    "mi_perro.andar(10)\n",
    "print(\"Velocidad después de andar:\", mi_perro.velocidad)\n",
    "mi_perro.parar()\n",
    "print(\"Velocidad después de parar:\", mi_perro.velocidad)\n",
    "print(mi_perro.ladrar(\"¡Ven aquí!\"))"
   ]
  }
 ],
 "metadata": {
  "kernelspec": {
   "display_name": "Python 3",
   "language": "python",
   "name": "python3"
  },
  "language_info": {
   "codemirror_mode": {
    "name": "ipython",
    "version": 3
   },
   "file_extension": ".py",
   "mimetype": "text/x-python",
   "name": "python",
   "nbconvert_exporter": "python",
   "pygments_lexer": "ipython3",
   "version": "3.10.11"
  }
 },
 "nbformat": 4,
 "nbformat_minor": 4
}
